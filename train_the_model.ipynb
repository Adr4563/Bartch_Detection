{
 "cells": [
  {
   "cell_type": "markdown",
   "metadata": {},
   "source": [
    "# **Batch Detection**\n",
    "- **[Models - YoloV8](https://docs.ultralytics.com/es/models/yolov8/#supported-tasks-and-modes)**\n",
    "- **[YoloV8 Reporsitory](https://github.com/ultralytics/ultralytics)**\n",
    "- **[Guide](https://docs.ultralytics.com/es/guides/#guides)**\n",
    "- **[Performance-Metrics](https://docs.ultralytics.com/es/guides/yolo-performance-metrics/#object-detection-metrics)**"
   ]
  },
  {
   "cell_type": "markdown",
   "metadata": {},
   "source": [
    "# **Train YoloV8**"
   ]
  },
  {
   "cell_type": "code",
   "execution_count": 11,
   "metadata": {},
   "outputs": [
    {
     "name": "stdout",
     "output_type": "stream",
     "text": [
      "Downloading https://github.com/ultralytics/assets/releases/download/v8.1.0/yolov8s.pt to 'yolov8s.pt'...\n"
     ]
    },
    {
     "name": "stderr",
     "output_type": "stream",
     "text": [
      "100%|██████████| 21.5M/21.5M [00:01<00:00, 18.4MB/s]\n"
     ]
    }
   ],
   "source": [
    "# Download YOLOv8s-cls to be trained\n",
    "from ultralytics import YOLO \n",
    "model = YOLO(\"yolov8s.pt\")"
   ]
  },
  {
   "cell_type": "code",
   "execution_count": 30,
   "metadata": {},
   "outputs": [
    {
     "name": "stdout",
     "output_type": "stream",
     "text": [
      "loading Roboflow workspace...\n",
      "loading Roboflow project...\n",
      "Dependency ultralytics==8.0.196 is required but found version=8.1.34, to fix: `pip install ultralytics==8.0.196`\n"
     ]
    }
   ],
   "source": [
    "# Download the dataset\n",
    "from roboflow import Roboflow\n",
    "rf = Roboflow(api_key=\"J829BSese6NgVXXuT2u7\")\n",
    "project = rf.workspace(\"work-vc34v\").project(\"pothole-ia66c\")\n",
    "dataset = project.version(3).download(\"yolov8\")"
   ]
  },
  {
   "cell_type": "code",
   "execution_count": null,
   "metadata": {},
   "outputs": [],
   "source": [
    "# Train the model with the selected dataset with the paths in the yaml document\n",
    "model.train(data = \".\\data.yaml\", epochs = 3, conf = 0.10 , batch=14)"
   ]
  },
  {
   "cell_type": "markdown",
   "metadata": {},
   "source": [
    "# **Analyse the model**"
   ]
  },
  {
   "cell_type": "code",
   "execution_count": null,
   "metadata": {},
   "outputs": [],
   "source": [
    "# Confusion Matrix \n",
    "from IPython.display import Image, display\n",
    "\n",
    "image_path = \"/content/runs/detect/train/confusion_matrix.png\"\n",
    "display(Image(filename=image_path, width=600))"
   ]
  },
  {
   "cell_type": "code",
   "execution_count": null,
   "metadata": {},
   "outputs": [],
   "source": [
    "# Load a custom model with the best weights \n",
    "best_model = YOLO('/content/runs/detect/train/weights/best.pt')  \n",
    "# or you can use the pre-trained model\n",
    "model\n",
    "\n",
    "# Validate the model\n",
    "metrics = best_model.val() \n",
    "metrics.box.map    \n",
    "metrics.box.map50  \n",
    "metrics.box.map75  \n",
    "metrics.box.maps "
   ]
  },
  {
   "cell_type": "markdown",
   "metadata": {},
   "source": [
    "# **Run the model**"
   ]
  },
  {
   "cell_type": "code",
   "execution_count": null,
   "metadata": {},
   "outputs": [],
   "source": [
    "# Infererence model with the best weights\n",
    "# Image\n",
    "best_model.predict(\"/content/Pothole-3/test/images\", save = True, save_txt = True)\n",
    "# Video\n",
    "# best_model(\"/content/video.mp4\" , save=True)"
   ]
  }
 ],
 "metadata": {
  "kernelspec": {
   "display_name": "Python 3",
   "language": "python",
   "name": "python3"
  },
  "language_info": {
   "codemirror_mode": {
    "name": "ipython",
    "version": 3
   },
   "file_extension": ".py",
   "mimetype": "text/x-python",
   "name": "python",
   "nbconvert_exporter": "python",
   "pygments_lexer": "ipython3",
   "version": "3.11.8"
  }
 },
 "nbformat": 4,
 "nbformat_minor": 2
}
