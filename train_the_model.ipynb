{
 "cells": [
  {
   "cell_type": "markdown",
   "metadata": {},
   "source": [
    "# **Pothole Detection**\n",
    "- **[Models - YoloV8](https://docs.ultralytics.com/es/models/yolov8/#supported-tasks-and-modes)**\n",
    "- **[YoloV8 Reporsitory](https://github.com/ultralytics/ultralytics)**\n",
    "- **[Guide](https://docs.ultralytics.com/es/guides/#guides)**\n",
    "- **[Performance-Metrics](https://docs.ultralytics.com/es/guides/yolo-performance-metrics/#object-detection-metrics)**"
   ]
  },
  {
   "cell_type": "markdown",
   "metadata": {},
   "source": [
    "# **Train YoloV8**"
   ]
  },
  {
   "cell_type": "code",
   "execution_count": 12,
   "metadata": {},
   "outputs": [],
   "source": [
    "# Download YOLOv8s-cls to be trained\n",
    "from ultralytics import YOLO \n",
    "model = YOLO(\"yolov8s.pt\")"
   ]
  },
  {
   "cell_type": "code",
   "execution_count": null,
   "metadata": {},
   "outputs": [],
   "source": [
    "# Download the dataset\n",
    "from roboflow import Roboflow\n",
    "rf = Roboflow(api_key=\"J829BSese6NgVXXuT2u7\")\n",
    "project = rf.workspace(\"work-vc34v\").project(\"pothole-ia66c\")\n",
    "dataset = project.version(3).download(\"yolov8\")"
   ]
  },
  {
   "cell_type": "code",
   "execution_count": null,
   "metadata": {},
   "outputs": [],
   "source": [
    "# Train the model with the selected dataset with the paths in the yaml document\n",
    "model.train(data = \".\\data.yaml\", epochs = 3, conf = 0.10 , batch=2)"
   ]
  },
  {
   "cell_type": "markdown",
   "metadata": {},
   "source": [
    "# **Analyse the model**"
   ]
  },
  {
   "cell_type": "code",
   "execution_count": 3,
   "metadata": {},
   "outputs": [
    {
     "data": {
      "image/png": "[encoded data removed]",
      "text/plain": [
       "<Figure size 640x480 with 1 Axes>"
      ]
     },
     "metadata": {},
     "output_type": "display_data"
    }
   ],
   "source": [
    "from PIL import Image\n",
    "import matplotlib.pyplot as plt\n",
    "\n",
    "# Confusion Matrix Normalized\n",
    "image_path = r\"C:\\Users\\user\\runs\\detect\\train3\\confusion_matrix_normalized.png\"\n",
    "\n",
    "imagen = Image.open(image_path)\n",
    "\n",
    "plt.imshow(imagen)\n",
    "plt.axis('off')  \n",
    "plt.show()"
   ]
  },
  {
   "cell_type": "code",
   "execution_count": 14,
   "metadata": {},
   "outputs": [
    {
     "name": "stderr",
     "output_type": "stream",
     "text": [
      "Ultralytics YOLOv8.0.196  Python-3.11.8 torch-2.1.2+cpu CPU (Intel Core(TM) i5-4300U 1.90GHz)\n",
      "Model summary (fused): 168 layers, 11125971 parameters, 0 gradients, 28.4 GFLOPs\n",
      "\u001b[34m\u001b[1mval: \u001b[0mScanning C:\\Users\\user\\Desktop\\Git-Repositories\\Pothole_Detection\\Pothole-3\\valid\\labels.cache... 8 images, 0 backgrounds, 0 corrupt: 100%|██████████| 8/8 [00:00<?, ?it/s]\n",
      "                 Class     Images  Instances      Box(P          R      mAP50  mAP50-95): 100%|██████████| 1/1 [00:06<00:00,  6.93s/it]\n",
      "                   all          8          8      0.173       0.25     0.0692     0.0224\n",
      "Speed: 6.4ms preprocess, 822.9ms inference, 0.0ms loss, 16.7ms postprocess per image\n",
      "Results saved to \u001b[1mC:\\Users\\user\\runs\\detect\\val2\u001b[0m\n"
     ]
    },
    {
     "data": {
      "text/plain": [
       "array([   0.022438])"
      ]
     },
     "execution_count": 14,
     "metadata": {},
     "output_type": "execute_result"
    }
   ],
   "source": [
    "# Load a custom model with the best weights \n",
    "best_model = YOLO(r'C:\\Users\\user\\runs\\detect\\train3\\weights\\best.pt')  \n",
    "# or you can use the pre-trained model\n",
    "model\n",
    "\n",
    "# Validate the model\n",
    "metrics = best_model.val()  # no arguments needed, dataset and settings remembered\n",
    "metrics.box.map    # map50-95\n",
    "metrics.box.map50  # map50\n",
    "metrics.box.map75  # map75\n",
    "metrics.box.maps   # a list contains map50-95 of each category"
   ]
  },
  {
   "cell_type": "code",
   "execution_count": 29,
   "metadata": {},
   "outputs": [
    {
     "name": "stderr",
     "output_type": "stream",
     "text": [
      "Ultralytics YOLOv8.0.196  Python-3.11.8 torch-2.1.2+cpu CPU (Intel Core(TM) i5-4300U 1.90GHz)\n",
      "\u001b[34m\u001b[1mval: \u001b[0mScanning C:\\Users\\user\\Desktop\\Git-Repositories\\Pothole_Detection\\Pothole-3\\valid\\labels.cache... 8 images, 0 backgrounds, 0 corrupt: 100%|██████████| 8/8 [00:00<?, ?it/s]\n",
      "                 Class     Images  Instances      Box(P          R      mAP50  mAP50-95): 100%|██████████| 8/8 [00:06<00:00,  1.15it/s]\n",
      "                   all          8          8       0.25      0.125      0.141     0.0141\n",
      "Speed: 5.3ms preprocess, 832.2ms inference, 0.0ms loss, 1.4ms postprocess per image\n",
      "Results saved to \u001b[1mC:\\Users\\user\\runs\\detect\\val10\u001b[0m\n"
     ]
    }
   ],
   "source": [
    "# Load a model\n",
    "best_model = YOLO(r'C:\\Users\\user\\runs\\detect\\train3\\weights\\best.pt')  \n",
    "\n",
    "# Customize validation settings\n",
    "validation_results = best_model.val(data='data.yaml',\n",
    "                               imgsz=640,\n",
    "                               batch=1,\n",
    "                               conf=0.25,\n",
    "                               iou=0.6,\n",
    "                               device='')"
   ]
  },
  {
   "cell_type": "markdown",
   "metadata": {},
   "source": [
    "# **Run the model**"
   ]
  },
  {
   "cell_type": "code",
   "execution_count": null,
   "metadata": {},
   "outputs": [],
   "source": [
    "# Infererence model with the best weights\n",
    "# Image\n",
    "best_model.predict(r'C:\\Users\\user\\Desktop\\Git-Repositories\\Pothole_Detection\\Pothole-3\\valid\\images\\300px-Newport_Whitepit_Lane_pot_hole-JPG_jpg.rf.0e55c4e267f905d23628d27eb23fb629.jpg', save = True, save_txt = True, max_det = 3)\n",
    "# Video\n",
    "# best_model(\"/content/video.mp4\" , save=True)"
   ]
  }
 ],
 "metadata": {
  "kernelspec": {
   "display_name": "Python 3",
   "language": "python",
   "name": "python3"
  },
  "language_info": {
   "codemirror_mode": {
    "name": "ipython",
    "version": 3
   },
   "file_extension": ".py",
   "mimetype": "text/x-python",
   "name": "python",
   "nbconvert_exporter": "python",
   "pygments_lexer": "ipython3",
   "version": "3.11.8"
  }
 },
 "nbformat": 4,
 "nbformat_minor": 2
}
